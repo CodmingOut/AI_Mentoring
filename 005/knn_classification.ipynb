{
 "cells": [
  {
   "cell_type": "markdown",
   "metadata": {},
   "source": [
    "# KNN 분류\n",
    "\n",
    "KNN은 K - Nearest - Neighbors의 약칭\n",
    "\n",
    "새로운 관측값이 주어지면 기존 데이터 중에서 가장 속성이 비슷환 K개의 이웃을 먼저 찾음\n",
    "가까운 이웃들이 갖고 있는 목표 값과 같은 값으로 분류하여 예측"
   ]
  }
 ],
 "metadata": {
  "kernelspec": {
   "display_name": "Python 3",
   "language": "python",
   "name": "python3"
  },
  "language_info": {
   "codemirror_mode": {
    "name": "ipython",
    "version": 3
   },
   "file_extension": ".py",
   "mimetype": "text/x-python",
   "name": "python",
   "nbconvert_exporter": "python",
   "pygments_lexer": "ipython3",
   "version": "3.7.6"
  }
 },
 "nbformat": 4,
 "nbformat_minor": 4
}
