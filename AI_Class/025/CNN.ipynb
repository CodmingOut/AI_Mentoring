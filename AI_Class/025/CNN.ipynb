{
  "nbformat": 4,
  "nbformat_minor": 0,
  "metadata": {
    "colab": {
      "name": "Blog_2_CNN.ipynb",
      "provenance": [],
      "collapsed_sections": []
    },
    "kernelspec": {
      "name": "python3",
      "display_name": "Python 3"
    },
    "accelerator": "GPU"
  },
  "cells": [
    {
      "cell_type": "code",
      "metadata": {
        "id": "eYTYJD4nA-O1",
        "colab": {
          "base_uri": "https://localhost:8080/",
          "height": 69
        },
        "outputId": "f8c9ef25-96e6-420b-fa57-7a77b2134bc6"
      },
      "source": [
        "!pip install -q tensorflow-gpu==2.0.0-rc1\n",
        "import tensorflow as tf"
      ],
      "execution_count": null,
      "outputs": [
        {
          "output_type": "stream",
          "text": [
            "\u001b[K     |████████████████████████████████| 380.5MB 48kB/s \n",
            "\u001b[K     |████████████████████████████████| 501kB 33.2MB/s \n",
            "\u001b[K     |████████████████████████████████| 4.3MB 49.1MB/s \n",
            "\u001b[?25h"
          ],
          "name": "stdout"
        }
      ]
    },
    {
      "cell_type": "code",
      "metadata": {
        "id": "tpkKSQXgA_hc"
      },
      "source": [
        "# Tf를 쓰면 무려 Mnist 데이터를 다운받지 않아도 됩니다.\n",
        "mnist = tf.keras.datasets.mnist\n",
        "# 또한 train / test set을 알아서 나눠 줍니다.\n",
        "(x_train, y_train), (x_test, y_test) = mnist.load_data()\n",
        "\n",
        "# mnist 데이터는 0~255 범위의 데이터 입니다. \n",
        "# 이를 0~1 사이로 맞춰주기 위해서 255로 나누는 것인데 \n",
        "# 딥러닝은 0~1 사이로 input 데이터의 범위를 해줘야 학습이 잘 됩니다.\n",
        "x_train, x_test = x_train / 255.0, x_test / 255.0"
      ],
      "execution_count": null,
      "outputs": []
    },
    {
      "cell_type": "code",
      "metadata": {
        "id": "RaNOxLG-DaC7",
        "colab": {
          "base_uri": "https://localhost:8080/",
          "height": 34
        },
        "outputId": "4f3fa65f-6fec-439f-cd71-bbeb30b9291c"
      },
      "source": [
        "x_train.shape"
      ],
      "execution_count": null,
      "outputs": [
        {
          "output_type": "execute_result",
          "data": {
            "text/plain": [
              "(60000, 28, 28)"
            ]
          },
          "metadata": {
            "tags": []
          },
          "execution_count": 6
        }
      ]
    },
    {
      "cell_type": "markdown",
      "metadata": {
        "id": "VYpbFvjIGujw"
      },
      "source": [
        "## 1. Keras API ( Sequential vs Functional)\n",
        " - Tensorflow에서 keras api를 활용하는 방법이 크게 두가지.\n",
        " - Sequential은 layer의 구조가 순차적으로 있을때 사용이 편리.\n",
        " - Functional API를 활용한다면 복잡한 구조를 설계할 수 있음.\n",
        "    -  예를 들어서 input, output을 여러개 관리 하거나, layer 사이사이에 연결을 해줄 때."
      ]
    },
    {
      "cell_type": "code",
      "metadata": {
        "id": "gZtdG_i5C3rK"
      },
      "source": [
        "model = tf.keras.models.Sequential([\n",
        "  tf.keras.layers.Reshape((28, 28, 1)),\n",
        "  tf.keras.layers.Conv2D(16, 3, activation='relu'),\n",
        "  tf.keras.layers.Flatten(),\n",
        "  tf.keras.layers.Dense(128),\n",
        "  tf.keras.layers.Dense(10, activation='softmax')\n",
        "])\n",
        "\n",
        "model.compile(optimizer='adam',\n",
        "              loss='sparse_categorical_crossentropy',\n",
        "              metrics=['accuracy'])"
      ],
      "execution_count": null,
      "outputs": []
    },
    {
      "cell_type": "code",
      "metadata": {
        "id": "VSny6Bk8DTh9",
        "colab": {
          "base_uri": "https://localhost:8080/",
          "height": 244
        },
        "outputId": "ee857029-09a4-4bc5-a2ab-64b752cf469a"
      },
      "source": [
        "model.fit(x_train, y_train, epochs=5)\n",
        "model.evaluate(x_test,  y_test, verbose=2)"
      ],
      "execution_count": null,
      "outputs": [
        {
          "output_type": "stream",
          "text": [
            "Train on 60000 samples\n",
            "Epoch 1/5\n",
            "60000/60000 [==============================] - 14s 226us/sample - loss: 0.1522 - accuracy: 0.9543\n",
            "Epoch 2/5\n",
            "60000/60000 [==============================] - 10s 159us/sample - loss: 0.0642 - accuracy: 0.9801\n",
            "Epoch 3/5\n",
            "60000/60000 [==============================] - 10s 159us/sample - loss: 0.0430 - accuracy: 0.9861\n",
            "Epoch 4/5\n",
            "60000/60000 [==============================] - 10s 160us/sample - loss: 0.0308 - accuracy: 0.9903\n",
            "Epoch 5/5\n",
            "60000/60000 [==============================] - 10s 160us/sample - loss: 0.0232 - accuracy: 0.9924\n",
            "10000/1 - 1s - loss: 0.0397 - accuracy: 0.9788\n"
          ],
          "name": "stdout"
        },
        {
          "output_type": "execute_result",
          "data": {
            "text/plain": [
              "[0.07917679533477494, 0.9788]"
            ]
          },
          "metadata": {
            "tags": []
          },
          "execution_count": 5
        }
      ]
    },
    {
      "cell_type": "code",
      "metadata": {
        "id": "QMqJEvvdF2l5"
      },
      "source": [
        "# 코드를 읽고, 코딩하기도 편하게 따로 불러와줍니다.\n",
        "from tensorflow import keras\n",
        "from tensorflow.keras import layers"
      ],
      "execution_count": null,
      "outputs": []
    },
    {
      "cell_type": "code",
      "metadata": {
        "id": "Gha3xecYGmhh",
        "colab": {
          "base_uri": "https://localhost:8080/",
          "height": 366
        },
        "outputId": "58e5d54d-2d53-413a-8d7c-7e30e9028f80"
      },
      "source": [
        "inputs = keras.Input(shape=(28, 28))\n",
        "x = layers.Reshape((28, 28, 1))(inputs)\n",
        "x = layers.Conv2D(16, 3, activation='relu')(x)\n",
        "x = layers.Flatten()(x)\n",
        "x = layers.Dense(128)(x)\n",
        "x = layers.Dense(10, activation='softmax')(x)\n",
        "outputs = x\n",
        "\n",
        "model = keras.Model(inputs, outputs)\n",
        "model.summary()"
      ],
      "execution_count": null,
      "outputs": [
        {
          "output_type": "stream",
          "text": [
            "Model: \"model_4\"\n",
            "_________________________________________________________________\n",
            "Layer (type)                 Output Shape              Param #   \n",
            "=================================================================\n",
            "input_6 (InputLayer)         [(None, 28, 28)]          0         \n",
            "_________________________________________________________________\n",
            "reshape_5 (Reshape)          (None, 28, 28, 1)         0         \n",
            "_________________________________________________________________\n",
            "conv2d_5 (Conv2D)            (None, 26, 26, 16)        160       \n",
            "_________________________________________________________________\n",
            "flatten_5 (Flatten)          (None, 10816)             0         \n",
            "_________________________________________________________________\n",
            "dense_10 (Dense)             (None, 128)               1384576   \n",
            "_________________________________________________________________\n",
            "dense_11 (Dense)             (None, 10)                1290      \n",
            "=================================================================\n",
            "Total params: 1,386,026\n",
            "Trainable params: 1,386,026\n",
            "Non-trainable params: 0\n",
            "_________________________________________________________________\n"
          ],
          "name": "stdout"
        }
      ]
    },
    {
      "cell_type": "code",
      "metadata": {
        "id": "KJvvsHUbGpP2",
        "colab": {
          "base_uri": "https://localhost:8080/",
          "height": 244
        },
        "outputId": "7fa3077f-e8a1-4b57-a3f3-25694b6422ca"
      },
      "source": [
        "model.compile(optimizer='adam',\n",
        "              loss='sparse_categorical_crossentropy',\n",
        "              metrics=['accuracy'])\n",
        "model.fit(x_train, y_train, epochs=5)\n",
        "model.evaluate(x_test,  y_test, verbose=2)\n"
      ],
      "execution_count": null,
      "outputs": [
        {
          "output_type": "stream",
          "text": [
            "Train on 60000 samples\n",
            "Epoch 1/5\n",
            "60000/60000 [==============================] - 10s 166us/sample - loss: 0.1497 - accuracy: 0.9552\n",
            "Epoch 2/5\n",
            "60000/60000 [==============================] - 10s 161us/sample - loss: 0.0600 - accuracy: 0.9816\n",
            "Epoch 3/5\n",
            "60000/60000 [==============================] - 10s 161us/sample - loss: 0.0398 - accuracy: 0.9877\n",
            "Epoch 4/5\n",
            "60000/60000 [==============================] - 10s 160us/sample - loss: 0.0278 - accuracy: 0.9905\n",
            "Epoch 5/5\n",
            "60000/60000 [==============================] - 10s 161us/sample - loss: 0.0211 - accuracy: 0.9930\n",
            "10000/1 - 1s - loss: 0.0426 - accuracy: 0.9787\n"
          ],
          "name": "stdout"
        },
        {
          "output_type": "execute_result",
          "data": {
            "text/plain": [
              "[0.08476607864821853, 0.9787]"
            ]
          },
          "metadata": {
            "tags": []
          },
          "execution_count": 14
        }
      ]
    },
    {
      "cell_type": "markdown",
      "metadata": {
        "id": "PF12IhZBH9Rj"
      },
      "source": [
        "# 2. Pooling의 사용"
      ]
    },
    {
      "cell_type": "code",
      "metadata": {
        "id": "Xx0Cd7guDXHb",
        "colab": {
          "base_uri": "https://localhost:8080/",
          "height": 401
        },
        "outputId": "93c6c818-d890-42a6-dbb6-f3c2c87545bb"
      },
      "source": [
        "inputs = keras.Input(shape=(28, 28))\n",
        "x = layers.Reshape((28, 28, 1))(inputs)\n",
        "x = layers.Conv2D(16, 3, activation='relu')(x)\n",
        "x = layers.MaxPooling2D(2)(x)\n",
        "x = layers.Flatten()(x)\n",
        "x = layers.Dense(128)(x)\n",
        "x = layers.Dense(10, activation='softmax')(x)\n",
        "outputs = x\n",
        "\n",
        "model = keras.Model(inputs, outputs)\n",
        "model.summary()"
      ],
      "execution_count": null,
      "outputs": [
        {
          "output_type": "stream",
          "text": [
            "Model: \"model_3\"\n",
            "_________________________________________________________________\n",
            "Layer (type)                 Output Shape              Param #   \n",
            "=================================================================\n",
            "input_5 (InputLayer)         [(None, 28, 28)]          0         \n",
            "_________________________________________________________________\n",
            "reshape_4 (Reshape)          (None, 28, 28, 1)         0         \n",
            "_________________________________________________________________\n",
            "conv2d_4 (Conv2D)            (None, 26, 26, 16)        160       \n",
            "_________________________________________________________________\n",
            "max_pooling2d_2 (MaxPooling2 (None, 13, 13, 16)        0         \n",
            "_________________________________________________________________\n",
            "flatten_4 (Flatten)          (None, 2704)              0         \n",
            "_________________________________________________________________\n",
            "dense_8 (Dense)              (None, 128)               346240    \n",
            "_________________________________________________________________\n",
            "dense_9 (Dense)              (None, 10)                1290      \n",
            "=================================================================\n",
            "Total params: 347,690\n",
            "Trainable params: 347,690\n",
            "Non-trainable params: 0\n",
            "_________________________________________________________________\n"
          ],
          "name": "stdout"
        }
      ]
    },
    {
      "cell_type": "code",
      "metadata": {
        "id": "V9vtyx0ZF-XC",
        "colab": {
          "base_uri": "https://localhost:8080/",
          "height": 244
        },
        "outputId": "35ba6730-6b15-4930-9df9-5e8ce8f11eee"
      },
      "source": [
        "model.compile(optimizer='adam',\n",
        "              loss='sparse_categorical_crossentropy',\n",
        "              metrics=['accuracy'])\n",
        "model.fit(x_train, y_train, epochs=5)\n",
        "model.evaluate(x_test,  y_test, verbose=2)"
      ],
      "execution_count": null,
      "outputs": [
        {
          "output_type": "stream",
          "text": [
            "Train on 60000 samples\n",
            "Epoch 1/5\n",
            "60000/60000 [==============================] - 9s 150us/sample - loss: 0.1674 - accuracy: 0.9518\n",
            "Epoch 2/5\n",
            "60000/60000 [==============================] - 8s 137us/sample - loss: 0.0751 - accuracy: 0.9777\n",
            "Epoch 3/5\n",
            "60000/60000 [==============================] - 8s 133us/sample - loss: 0.0573 - accuracy: 0.9827\n",
            "Epoch 4/5\n",
            "60000/60000 [==============================] - 8s 134us/sample - loss: 0.0489 - accuracy: 0.9846\n",
            "Epoch 5/5\n",
            "60000/60000 [==============================] - 8s 132us/sample - loss: 0.0387 - accuracy: 0.9881\n",
            "10000/1 - 1s - loss: 0.0338 - accuracy: 0.9807\n"
          ],
          "name": "stdout"
        },
        {
          "output_type": "execute_result",
          "data": {
            "text/plain": [
              "[0.0628679587037419, 0.9807]"
            ]
          },
          "metadata": {
            "tags": []
          },
          "execution_count": 12
        }
      ]
    },
    {
      "cell_type": "markdown",
      "metadata": {
        "id": "nKnMsu2MJAhP"
      },
      "source": [
        "# 3. 조금더 깊은 layer"
      ]
    },
    {
      "cell_type": "code",
      "metadata": {
        "id": "cYUoM0Q2GVGC",
        "colab": {
          "base_uri": "https://localhost:8080/",
          "height": 470
        },
        "outputId": "c26200ff-2b2e-4bda-8a89-4131b3e8bb4c"
      },
      "source": [
        "inputs = keras.Input(shape=(28, 28))\n",
        "x = layers.Reshape((28, 28, 1))(inputs)\n",
        "x = layers.Conv2D(16, 3, activation='relu')(x)\n",
        "x = layers.MaxPooling2D(2)(x)\n",
        "x = layers.Conv2D(32, 3, activation='relu')(x)\n",
        "x = layers.MaxPooling2D(2)(x)\n",
        "x = layers.Flatten()(x)\n",
        "x = layers.Dense(128)(x)\n",
        "x = layers.Dense(10, activation='softmax')(x)\n",
        "outputs = x\n",
        "\n",
        "model = keras.Model(inputs, outputs)\n",
        "model.summary()"
      ],
      "execution_count": null,
      "outputs": [
        {
          "output_type": "stream",
          "text": [
            "Model: \"model_5\"\n",
            "_________________________________________________________________\n",
            "Layer (type)                 Output Shape              Param #   \n",
            "=================================================================\n",
            "input_7 (InputLayer)         [(None, 28, 28)]          0         \n",
            "_________________________________________________________________\n",
            "reshape_6 (Reshape)          (None, 28, 28, 1)         0         \n",
            "_________________________________________________________________\n",
            "conv2d_6 (Conv2D)            (None, 26, 26, 16)        160       \n",
            "_________________________________________________________________\n",
            "max_pooling2d_3 (MaxPooling2 (None, 13, 13, 16)        0         \n",
            "_________________________________________________________________\n",
            "conv2d_7 (Conv2D)            (None, 11, 11, 32)        4640      \n",
            "_________________________________________________________________\n",
            "max_pooling2d_4 (MaxPooling2 (None, 5, 5, 32)          0         \n",
            "_________________________________________________________________\n",
            "flatten_6 (Flatten)          (None, 800)               0         \n",
            "_________________________________________________________________\n",
            "dense_12 (Dense)             (None, 128)               102528    \n",
            "_________________________________________________________________\n",
            "dense_13 (Dense)             (None, 10)                1290      \n",
            "=================================================================\n",
            "Total params: 108,618\n",
            "Trainable params: 108,618\n",
            "Non-trainable params: 0\n",
            "_________________________________________________________________\n"
          ],
          "name": "stdout"
        }
      ]
    },
    {
      "cell_type": "code",
      "metadata": {
        "id": "ghrrE3O9I3Bb",
        "colab": {
          "base_uri": "https://localhost:8080/",
          "height": 244
        },
        "outputId": "4b06f7d3-2e3b-4297-df25-3f6a4fc944b2"
      },
      "source": [
        "model.compile(optimizer='adam',\n",
        "              loss='sparse_categorical_crossentropy',\n",
        "              metrics=['accuracy'])\n",
        "model.fit(x_train, y_train, epochs=5)\n",
        "model.evaluate(x_test,  y_test, verbose=2)"
      ],
      "execution_count": null,
      "outputs": [
        {
          "output_type": "stream",
          "text": [
            "Train on 60000 samples\n",
            "Epoch 1/5\n",
            "60000/60000 [==============================] - 10s 160us/sample - loss: 0.1457 - accuracy: 0.9552\n",
            "Epoch 2/5\n",
            "60000/60000 [==============================] - 9s 149us/sample - loss: 0.0558 - accuracy: 0.9829\n",
            "Epoch 3/5\n",
            "60000/60000 [==============================] - 9s 150us/sample - loss: 0.0420 - accuracy: 0.9869\n",
            "Epoch 4/5\n",
            "60000/60000 [==============================] - 9s 150us/sample - loss: 0.0330 - accuracy: 0.9896\n",
            "Epoch 5/5\n",
            "60000/60000 [==============================] - 9s 150us/sample - loss: 0.0281 - accuracy: 0.9910\n",
            "10000/1 - 1s - loss: 0.0173 - accuracy: 0.9897\n"
          ],
          "name": "stdout"
        },
        {
          "output_type": "execute_result",
          "data": {
            "text/plain": [
              "[0.033914841750269986, 0.9897]"
            ]
          },
          "metadata": {
            "tags": []
          },
          "execution_count": 16
        }
      ]
    },
    {
      "cell_type": "markdown",
      "metadata": {
        "id": "i46Ut-e0JGlh"
      },
      "source": [
        "결과 \n",
        " Pooling layer는 이미지의 크기를 작게 만듦으로써 정보의 손실을 가져온다고 볼수도 있다. 하지만 Flatten layer가 있는 모델의 구조상 pooling layer를 통해서 전체 모델의 parameter 양은 되려 줄어든다."
      ]
    },
    {
      "cell_type": "markdown",
      "metadata": {
        "id": "HZUgd0iKx6By"
      },
      "source": [
        "# 4. Padding의 유무"
      ]
    },
    {
      "cell_type": "code",
      "metadata": {
        "id": "_ejUj_hrx7qh",
        "colab": {
          "base_uri": "https://localhost:8080/",
          "height": 470
        },
        "outputId": "40580492-86d7-4415-c955-e43f7d68382a"
      },
      "source": [
        "inputs = keras.Input(shape=(28, 28))\n",
        "x = layers.Reshape((28, 28, 1))(inputs)\n",
        "x = layers.Conv2D(16, 3, activation='relu',padding=\"same\")(x)\n",
        "x = layers.MaxPooling2D(2)(x)\n",
        "x = layers.Conv2D(32, 3, activation='relu',padding=\"same\")(x)\n",
        "x = layers.MaxPooling2D(2)(x)\n",
        "x = layers.Flatten()(x)\n",
        "x = layers.Dense(128)(x)\n",
        "x = layers.Dense(10, activation='softmax')(x)\n",
        "outputs = x\n",
        "\n",
        "model = keras.Model(inputs, outputs)\n",
        "model.summary()"
      ],
      "execution_count": null,
      "outputs": [
        {
          "output_type": "stream",
          "text": [
            "Model: \"model\"\n",
            "_________________________________________________________________\n",
            "Layer (type)                 Output Shape              Param #   \n",
            "=================================================================\n",
            "input_1 (InputLayer)         [(None, 28, 28)]          0         \n",
            "_________________________________________________________________\n",
            "reshape (Reshape)            (None, 28, 28, 1)         0         \n",
            "_________________________________________________________________\n",
            "conv2d (Conv2D)              (None, 28, 28, 16)        160       \n",
            "_________________________________________________________________\n",
            "max_pooling2d (MaxPooling2D) (None, 14, 14, 16)        0         \n",
            "_________________________________________________________________\n",
            "conv2d_1 (Conv2D)            (None, 14, 14, 32)        4640      \n",
            "_________________________________________________________________\n",
            "max_pooling2d_1 (MaxPooling2 (None, 7, 7, 32)          0         \n",
            "_________________________________________________________________\n",
            "flatten (Flatten)            (None, 1568)              0         \n",
            "_________________________________________________________________\n",
            "dense (Dense)                (None, 128)               200832    \n",
            "_________________________________________________________________\n",
            "dense_1 (Dense)              (None, 10)                1290      \n",
            "=================================================================\n",
            "Total params: 206,922\n",
            "Trainable params: 206,922\n",
            "Non-trainable params: 0\n",
            "_________________________________________________________________\n"
          ],
          "name": "stdout"
        }
      ]
    },
    {
      "cell_type": "code",
      "metadata": {
        "id": "fmPyITpxx-ge",
        "colab": {
          "base_uri": "https://localhost:8080/",
          "height": 244
        },
        "outputId": "30c03229-5a28-430c-c6f5-e42c82475d48"
      },
      "source": [
        "model.compile(optimizer='adam',\n",
        "              loss='sparse_categorical_crossentropy',\n",
        "              metrics=['accuracy'])\n",
        "model.fit(x_train, y_train, epochs=5)\n",
        "model.evaluate(x_test,  y_test, verbose=2)"
      ],
      "execution_count": null,
      "outputs": [
        {
          "output_type": "stream",
          "text": [
            "Train on 60000 samples\n",
            "Epoch 1/5\n",
            "60000/60000 [==============================] - 13s 214us/sample - loss: 0.1360 - accuracy: 0.9579\n",
            "Epoch 2/5\n",
            "60000/60000 [==============================] - 9s 157us/sample - loss: 0.0498 - accuracy: 0.9841\n",
            "Epoch 3/5\n",
            "60000/60000 [==============================] - 9s 157us/sample - loss: 0.0388 - accuracy: 0.9876\n",
            "Epoch 4/5\n",
            "60000/60000 [==============================] - 9s 157us/sample - loss: 0.0299 - accuracy: 0.9904\n",
            "Epoch 5/5\n",
            "60000/60000 [==============================] - 9s 156us/sample - loss: 0.0258 - accuracy: 0.9913\n",
            "10000/1 - 1s - loss: 0.0190 - accuracy: 0.9892\n"
          ],
          "name": "stdout"
        },
        {
          "output_type": "execute_result",
          "data": {
            "text/plain": [
              "[0.036085105179075615, 0.9892]"
            ]
          },
          "metadata": {
            "tags": []
          },
          "execution_count": 11
        }
      ]
    },
    {
      "cell_type": "code",
      "metadata": {
        "id": "VsAZP6G6yDhq"
      },
      "source": [
        ""
      ],
      "execution_count": null,
      "outputs": []
    }
  ]
}