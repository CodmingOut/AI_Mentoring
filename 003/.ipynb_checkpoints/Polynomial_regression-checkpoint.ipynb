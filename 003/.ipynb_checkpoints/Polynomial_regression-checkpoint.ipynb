{
 "cells": [
  {
   "cell_type": "code",
   "execution_count": 1,
   "metadata": {},
   "outputs": [],
   "source": [
    "import pandas as pd\n",
    "import numpy as np\n",
    "import matplotlib.pyplot as plt\n",
    "import seaborn as sns\n",
    "\n",
    "from sklearn.model_selection import train_test_split\n",
    "from sklearn.linear_model import LinearRegression      #선형회귀분석\n",
    "from sklearn.preprocessing import PolynomialFeatures   #다항식 변환"
   ]
  },
  {
   "cell_type": "code",
   "execution_count": 3,
   "metadata": {},
   "outputs": [],
   "source": [
    "df = pd.read_csv('../002/auto-mpg.csv', header=None)"
   ]
  },
  {
   "cell_type": "code",
   "execution_count": 4,
   "metadata": {},
   "outputs": [],
   "source": [
    "df.columns = ['mpg','cylinders','displacement','horsepower','weight',\n",
    "              'acceleration','model year','origin','name'] "
   ]
  },
  {
   "cell_type": "code",
   "execution_count": 5,
   "metadata": {},
   "outputs": [],
   "source": [
    "df['horsepower'].replace('?', np.nan, inplace=True)\n",
    "df.dropna(subset=['horsepower'], axis=0, inplace=True)\n",
    "df['horsepower'] = df['horsepower'].astype('float')"
   ]
  },
  {
   "cell_type": "code",
   "execution_count": 6,
   "metadata": {},
   "outputs": [],
   "source": [
    "features = df[['mpg', 'cylinders', 'horsepower', 'weight']]"
   ]
  },
  {
   "cell_type": "code",
   "execution_count": 7,
   "metadata": {},
   "outputs": [],
   "source": [
    "X=features[['weight']]  #독립 변수 X\n",
    "y=features['mpg']       #종속 변수 Y"
   ]
  },
  {
   "cell_type": "code",
   "execution_count": 8,
   "metadata": {},
   "outputs": [],
   "source": [
    "X_train, X_test, y_train, y_test = train_test_split(X, y, test_size=0.3, random_state=10) "
   ]
  },
  {
   "cell_type": "code",
   "execution_count": 9,
   "metadata": {},
   "outputs": [
    {
     "name": "stdout",
     "output_type": "stream",
     "text": [
      "훈련 데이터:  (274, 1)\n",
      "검증 데이터:  (118, 1)\n"
     ]
    }
   ],
   "source": [
    "print('훈련 데이터: ', X_train.shape)\n",
    "print('검증 데이터: ', X_test.shape)   "
   ]
  },
  {
   "cell_type": "markdown",
   "metadata": {},
   "source": [
    "## 다항식 변환"
   ]
  },
  {
   "cell_type": "markdown",
   "metadata": {},
   "source": [
    "#### 2차항 적용"
   ]
  },
  {
   "cell_type": "code",
   "execution_count": 10,
   "metadata": {},
   "outputs": [],
   "source": [
    "poly = PolynomialFeatures(degree=2)"
   ]
  },
  {
   "cell_type": "markdown",
   "metadata": {},
   "source": [
    "#### X_train 데이터를 2차항으로 변형"
   ]
  },
  {
   "cell_type": "code",
   "execution_count": 11,
   "metadata": {},
   "outputs": [],
   "source": [
    "X_train_poly=poly.fit_transform(X_train)         "
   ]
  },
  {
   "cell_type": "code",
   "execution_count": 12,
   "metadata": {},
   "outputs": [
    {
     "name": "stdout",
     "output_type": "stream",
     "text": [
      "기존 데이터:  (274, 1)\n",
      "2차항 변환 데이터:  (274, 3)\n"
     ]
    }
   ],
   "source": [
    "print('기존 데이터: ', X_train.shape)\n",
    "print('2차항 변환 데이터: ', X_train_poly.shape)  "
   ]
  },
  {
   "cell_type": "code",
   "execution_count": 16,
   "metadata": {
    "scrolled": true
   },
   "outputs": [
    {
     "data": {
      "text/html": [
       "<div>\n",
       "<style scoped>\n",
       "    .dataframe tbody tr th:only-of-type {\n",
       "        vertical-align: middle;\n",
       "    }\n",
       "\n",
       "    .dataframe tbody tr th {\n",
       "        vertical-align: top;\n",
       "    }\n",
       "\n",
       "    .dataframe thead th {\n",
       "        text-align: right;\n",
       "    }\n",
       "</style>\n",
       "<table border=\"1\" class=\"dataframe\">\n",
       "  <thead>\n",
       "    <tr style=\"text-align: right;\">\n",
       "      <th></th>\n",
       "      <th>weight</th>\n",
       "    </tr>\n",
       "  </thead>\n",
       "  <tbody>\n",
       "    <tr>\n",
       "      <th>38</th>\n",
       "      <td>4209.0</td>\n",
       "    </tr>\n",
       "    <tr>\n",
       "      <th>172</th>\n",
       "      <td>2223.0</td>\n",
       "    </tr>\n",
       "    <tr>\n",
       "      <th>277</th>\n",
       "      <td>3410.0</td>\n",
       "    </tr>\n",
       "    <tr>\n",
       "      <th>196</th>\n",
       "      <td>2164.0</td>\n",
       "    </tr>\n",
       "    <tr>\n",
       "      <th>357</th>\n",
       "      <td>2615.0</td>\n",
       "    </tr>\n",
       "    <tr>\n",
       "      <th>...</th>\n",
       "      <td>...</td>\n",
       "    </tr>\n",
       "    <tr>\n",
       "      <th>375</th>\n",
       "      <td>1980.0</td>\n",
       "    </tr>\n",
       "    <tr>\n",
       "      <th>322</th>\n",
       "      <td>2110.0</td>\n",
       "    </tr>\n",
       "    <tr>\n",
       "      <th>15</th>\n",
       "      <td>2833.0</td>\n",
       "    </tr>\n",
       "    <tr>\n",
       "      <th>127</th>\n",
       "      <td>2901.0</td>\n",
       "    </tr>\n",
       "    <tr>\n",
       "      <th>267</th>\n",
       "      <td>2560.0</td>\n",
       "    </tr>\n",
       "  </tbody>\n",
       "</table>\n",
       "<p>274 rows × 1 columns</p>\n",
       "</div>"
      ],
      "text/plain": [
       "     weight\n",
       "38   4209.0\n",
       "172  2223.0\n",
       "277  3410.0\n",
       "196  2164.0\n",
       "357  2615.0\n",
       "..      ...\n",
       "375  1980.0\n",
       "322  2110.0\n",
       "15   2833.0\n",
       "127  2901.0\n",
       "267  2560.0\n",
       "\n",
       "[274 rows x 1 columns]"
      ]
     },
     "execution_count": 16,
     "metadata": {},
     "output_type": "execute_result"
    }
   ],
   "source": [
    "X_train"
   ]
  },
  {
   "cell_type": "code",
   "execution_count": 17,
   "metadata": {},
   "outputs": [
    {
     "data": {
      "text/plain": [
       "array([[1.0000000e+00, 4.2090000e+03, 1.7715681e+07],\n",
       "       [1.0000000e+00, 2.2230000e+03, 4.9417290e+06],\n",
       "       [1.0000000e+00, 3.4100000e+03, 1.1628100e+07],\n",
       "       [1.0000000e+00, 2.1640000e+03, 4.6828960e+06],\n",
       "       [1.0000000e+00, 2.6150000e+03, 6.8382250e+06],\n",
       "       [1.0000000e+00, 2.3850000e+03, 5.6882250e+06],\n",
       "       [1.0000000e+00, 2.7950000e+03, 7.8120250e+06],\n",
       "       [1.0000000e+00, 3.2450000e+03, 1.0530025e+07],\n",
       "       [1.0000000e+00, 3.1020000e+03, 9.6224040e+06],\n",
       "       [1.0000000e+00, 2.5060000e+03, 6.2800360e+06],\n",
       "       [1.0000000e+00, 3.5700000e+03, 1.2744900e+07],\n",
       "       [1.0000000e+00, 1.9400000e+03, 3.7636000e+06],\n",
       "       [1.0000000e+00, 2.9900000e+03, 8.9401000e+06],\n",
       "       [1.0000000e+00, 2.0850000e+03, 4.3472250e+06],\n",
       "       [1.0000000e+00, 2.8550000e+03, 8.1510250e+06],\n",
       "       [1.0000000e+00, 3.2880000e+03, 1.0810944e+07],\n",
       "       [1.0000000e+00, 2.1250000e+03, 4.5156250e+06],\n",
       "       [1.0000000e+00, 2.2460000e+03, 5.0445160e+06],\n",
       "       [1.0000000e+00, 2.3950000e+03, 5.7360250e+06],\n",
       "       [1.0000000e+00, 2.9300000e+03, 8.5849000e+06],\n",
       "       [1.0000000e+00, 2.7110000e+03, 7.3495210e+06],\n",
       "       [1.0000000e+00, 2.1550000e+03, 4.6440250e+06],\n",
       "       [1.0000000e+00, 1.6490000e+03, 2.7192010e+06],\n",
       "       [1.0000000e+00, 3.6450000e+03, 1.3286025e+07],\n",
       "       [1.0000000e+00, 3.3020000e+03, 1.0903204e+07],\n",
       "       [1.0000000e+00, 2.2650000e+03, 5.1302250e+06],\n",
       "       [1.0000000e+00, 1.8350000e+03, 3.3672250e+06],\n",
       "       [1.0000000e+00, 2.6940000e+03, 7.2576360e+06],\n",
       "       [1.0000000e+00, 2.6390000e+03, 6.9643210e+06],\n",
       "       [1.0000000e+00, 2.4010000e+03, 5.7648010e+06],\n",
       "       [1.0000000e+00, 4.3410000e+03, 1.8844281e+07],\n",
       "       [1.0000000e+00, 1.9150000e+03, 3.6672250e+06],\n",
       "       [1.0000000e+00, 3.5300000e+03, 1.2460900e+07],\n",
       "       [1.0000000e+00, 2.6200000e+03, 6.8644000e+06],\n",
       "       [1.0000000e+00, 4.3350000e+03, 1.8792225e+07],\n",
       "       [1.0000000e+00, 4.6540000e+03, 2.1659716e+07],\n",
       "       [1.0000000e+00, 2.6000000e+03, 6.7600000e+06],\n",
       "       [1.0000000e+00, 3.1690000e+03, 1.0042561e+07],\n",
       "       [1.0000000e+00, 2.2260000e+03, 4.9550760e+06],\n",
       "       [1.0000000e+00, 2.4300000e+03, 5.9049000e+06],\n",
       "       [1.0000000e+00, 2.6700000e+03, 7.1289000e+06],\n",
       "       [1.0000000e+00, 2.7890000e+03, 7.7785210e+06],\n",
       "       [1.0000000e+00, 2.2190000e+03, 4.9239610e+06],\n",
       "       [1.0000000e+00, 1.9500000e+03, 3.8025000e+06],\n",
       "       [1.0000000e+00, 2.1230000e+03, 4.5071290e+06],\n",
       "       [1.0000000e+00, 2.2300000e+03, 4.9729000e+06],\n",
       "       [1.0000000e+00, 2.2540000e+03, 5.0805160e+06],\n",
       "       [1.0000000e+00, 2.9330000e+03, 8.6024890e+06],\n",
       "       [1.0000000e+00, 3.3600000e+03, 1.1289600e+07],\n",
       "       [1.0000000e+00, 1.9950000e+03, 3.9800250e+06],\n",
       "       [1.0000000e+00, 3.8800000e+03, 1.5054400e+07],\n",
       "       [1.0000000e+00, 2.3910000e+03, 5.7168810e+06],\n",
       "       [1.0000000e+00, 4.4640000e+03, 1.9927296e+07],\n",
       "       [1.0000000e+00, 3.1900000e+03, 1.0176100e+07],\n",
       "       [1.0000000e+00, 2.5750000e+03, 6.6306250e+06],\n",
       "       [1.0000000e+00, 2.9300000e+03, 8.5849000e+06],\n",
       "       [1.0000000e+00, 2.2020000e+03, 4.8488040e+06],\n",
       "       [1.0000000e+00, 3.6320000e+03, 1.3191424e+07],\n",
       "       [1.0000000e+00, 2.1580000e+03, 4.6569640e+06],\n",
       "       [1.0000000e+00, 3.9000000e+03, 1.5210000e+07],\n",
       "       [1.0000000e+00, 4.4560000e+03, 1.9855936e+07],\n",
       "       [1.0000000e+00, 2.2550000e+03, 5.0850250e+06],\n",
       "       [1.0000000e+00, 3.5040000e+03, 1.2278016e+07],\n",
       "       [1.0000000e+00, 2.0740000e+03, 4.3014760e+06],\n",
       "       [1.0000000e+00, 3.2050000e+03, 1.0272025e+07],\n",
       "       [1.0000000e+00, 1.9370000e+03, 3.7519690e+06],\n",
       "       [1.0000000e+00, 2.6350000e+03, 6.9432250e+06],\n",
       "       [1.0000000e+00, 1.9550000e+03, 3.8220250e+06],\n",
       "       [1.0000000e+00, 2.1100000e+03, 4.4521000e+06],\n",
       "       [1.0000000e+00, 3.4100000e+03, 1.1628100e+07],\n",
       "       [1.0000000e+00, 2.6700000e+03, 7.1289000e+06],\n",
       "       [1.0000000e+00, 2.1000000e+03, 4.4100000e+06],\n",
       "       [1.0000000e+00, 4.4400000e+03, 1.9713600e+07],\n",
       "       [1.0000000e+00, 2.8650000e+03, 8.2082250e+06],\n",
       "       [1.0000000e+00, 2.2790000e+03, 5.1938410e+06],\n",
       "       [1.0000000e+00, 4.1350000e+03, 1.7098225e+07],\n",
       "       [1.0000000e+00, 1.8360000e+03, 3.3708960e+06],\n",
       "       [1.0000000e+00, 2.9100000e+03, 8.4681000e+06],\n",
       "       [1.0000000e+00, 1.9250000e+03, 3.7056250e+06],\n",
       "       [1.0000000e+00, 1.7550000e+03, 3.0800250e+06],\n",
       "       [1.0000000e+00, 2.7000000e+03, 7.2900000e+06],\n",
       "       [1.0000000e+00, 3.5200000e+03, 1.2390400e+07],\n",
       "       [1.0000000e+00, 3.6510000e+03, 1.3329801e+07],\n",
       "       [1.0000000e+00, 4.1900000e+03, 1.7556100e+07],\n",
       "       [1.0000000e+00, 3.9880000e+03, 1.5904144e+07],\n",
       "       [1.0000000e+00, 2.2050000e+03, 4.8620250e+06],\n",
       "       [1.0000000e+00, 3.7300000e+03, 1.3912900e+07],\n",
       "       [1.0000000e+00, 3.2820000e+03, 1.0771524e+07],\n",
       "       [1.0000000e+00, 3.4250000e+03, 1.1730625e+07],\n",
       "       [1.0000000e+00, 3.0390000e+03, 9.2355210e+06],\n",
       "       [1.0000000e+00, 1.9680000e+03, 3.8730240e+06],\n",
       "       [1.0000000e+00, 2.0700000e+03, 4.2849000e+06],\n",
       "       [1.0000000e+00, 2.9570000e+03, 8.7438490e+06],\n",
       "       [1.0000000e+00, 4.1000000e+03, 1.6810000e+07],\n",
       "       [1.0000000e+00, 1.8450000e+03, 3.4040250e+06],\n",
       "       [1.0000000e+00, 4.1650000e+03, 1.7347225e+07],\n",
       "       [1.0000000e+00, 2.4900000e+03, 6.2001000e+06],\n",
       "       [1.0000000e+00, 3.0600000e+03, 9.3636000e+06],\n",
       "       [1.0000000e+00, 2.3000000e+03, 5.2900000e+06],\n",
       "       [1.0000000e+00, 2.0350000e+03, 4.1412250e+06],\n",
       "       [1.0000000e+00, 3.4360000e+03, 1.1806096e+07],\n",
       "       [1.0000000e+00, 4.6380000e+03, 2.1511044e+07],\n",
       "       [1.0000000e+00, 2.9650000e+03, 8.7912250e+06],\n",
       "       [1.0000000e+00, 3.4150000e+03, 1.1662225e+07],\n",
       "       [1.0000000e+00, 1.8670000e+03, 3.4856890e+06],\n",
       "       [1.0000000e+00, 3.3990000e+03, 1.1553201e+07],\n",
       "       [1.0000000e+00, 3.5740000e+03, 1.2773476e+07],\n",
       "       [1.0000000e+00, 2.7350000e+03, 7.4802250e+06],\n",
       "       [1.0000000e+00, 1.7950000e+03, 3.2220250e+06],\n",
       "       [1.0000000e+00, 2.5650000e+03, 6.5792250e+06],\n",
       "       [1.0000000e+00, 2.4640000e+03, 6.0712960e+06],\n",
       "       [1.0000000e+00, 2.5000000e+03, 6.2500000e+06],\n",
       "       [1.0000000e+00, 2.1500000e+03, 4.6225000e+06],\n",
       "       [1.0000000e+00, 2.6340000e+03, 6.9379560e+06],\n",
       "       [1.0000000e+00, 2.5420000e+03, 6.4617640e+06],\n",
       "       [1.0000000e+00, 4.3120000e+03, 1.8593344e+07],\n",
       "       [1.0000000e+00, 3.8500000e+03, 1.4822500e+07],\n",
       "       [1.0000000e+00, 4.9060000e+03, 2.4068836e+07],\n",
       "       [1.0000000e+00, 4.3630000e+03, 1.9035769e+07],\n",
       "       [1.0000000e+00, 4.1540000e+03, 1.7255716e+07],\n",
       "       [1.0000000e+00, 4.7320000e+03, 2.2391824e+07],\n",
       "       [1.0000000e+00, 1.9850000e+03, 3.9402250e+06],\n",
       "       [1.0000000e+00, 2.1550000e+03, 4.6440250e+06],\n",
       "       [1.0000000e+00, 2.1450000e+03, 4.6010250e+06],\n",
       "       [1.0000000e+00, 3.7850000e+03, 1.4326225e+07],\n",
       "       [1.0000000e+00, 2.7020000e+03, 7.3008040e+06],\n",
       "       [1.0000000e+00, 2.6050000e+03, 6.7860250e+06],\n",
       "       [1.0000000e+00, 3.3530000e+03, 1.1242609e+07],\n",
       "       [1.0000000e+00, 2.9450000e+03, 8.6730250e+06],\n",
       "       [1.0000000e+00, 2.1900000e+03, 4.7961000e+06],\n",
       "       [1.0000000e+00, 3.9400000e+03, 1.5523600e+07],\n",
       "       [1.0000000e+00, 3.1580000e+03, 9.9729640e+06],\n",
       "       [1.0000000e+00, 2.3000000e+03, 5.2900000e+06],\n",
       "       [1.0000000e+00, 2.9500000e+03, 8.7025000e+06],\n",
       "       [1.0000000e+00, 2.2640000e+03, 5.1256960e+06],\n",
       "       [1.0000000e+00, 2.3790000e+03, 5.6596410e+06],\n",
       "       [1.0000000e+00, 1.9750000e+03, 3.9006250e+06],\n",
       "       [1.0000000e+00, 4.0980000e+03, 1.6793604e+07],\n",
       "       [1.0000000e+00, 3.7550000e+03, 1.4100025e+07],\n",
       "       [1.0000000e+00, 4.4570000e+03, 1.9864849e+07],\n",
       "       [1.0000000e+00, 1.8500000e+03, 3.4225000e+06],\n",
       "       [1.0000000e+00, 3.2500000e+03, 1.0562500e+07],\n",
       "       [1.0000000e+00, 2.5920000e+03, 6.7184640e+06],\n",
       "       [1.0000000e+00, 3.0150000e+03, 9.0902250e+06],\n",
       "       [1.0000000e+00, 4.3250000e+03, 1.8705625e+07],\n",
       "       [1.0000000e+00, 3.4250000e+03, 1.1730625e+07],\n",
       "       [1.0000000e+00, 2.5450000e+03, 6.4770250e+06],\n",
       "       [1.0000000e+00, 4.0540000e+03, 1.6434916e+07],\n",
       "       [1.0000000e+00, 4.2780000e+03, 1.8301284e+07],\n",
       "       [1.0000000e+00, 2.1440000e+03, 4.5967360e+06],\n",
       "       [1.0000000e+00, 2.2200000e+03, 4.9284000e+06],\n",
       "       [1.0000000e+00, 2.2150000e+03, 4.9062250e+06],\n",
       "       [1.0000000e+00, 2.1300000e+03, 4.5369000e+06],\n",
       "       [1.0000000e+00, 2.8700000e+03, 8.2369000e+06],\n",
       "       [1.0000000e+00, 2.1640000e+03, 4.6828960e+06],\n",
       "       [1.0000000e+00, 3.8210000e+03, 1.4600041e+07],\n",
       "       [1.0000000e+00, 4.5020000e+03, 2.0268004e+07],\n",
       "       [1.0000000e+00, 3.1210000e+03, 9.7406410e+06],\n",
       "       [1.0000000e+00, 2.3750000e+03, 5.6406250e+06],\n",
       "       [1.0000000e+00, 3.4300000e+03, 1.1764900e+07],\n",
       "       [1.0000000e+00, 1.9850000e+03, 3.9402250e+06],\n",
       "       [1.0000000e+00, 2.5950000e+03, 6.7340250e+06],\n",
       "       [1.0000000e+00, 3.8970000e+03, 1.5186609e+07],\n",
       "       [1.0000000e+00, 2.1300000e+03, 4.5369000e+06],\n",
       "       [1.0000000e+00, 2.1250000e+03, 4.5156250e+06],\n",
       "       [1.0000000e+00, 3.8200000e+03, 1.4592400e+07],\n",
       "       [1.0000000e+00, 3.3810000e+03, 1.1431161e+07],\n",
       "       [1.0000000e+00, 4.4640000e+03, 1.9927296e+07],\n",
       "       [1.0000000e+00, 4.9550000e+03, 2.4552025e+07],\n",
       "       [1.0000000e+00, 2.2650000e+03, 5.1302250e+06],\n",
       "       [1.0000000e+00, 2.2100000e+03, 4.8841000e+06],\n",
       "       [1.0000000e+00, 2.4340000e+03, 5.9243560e+06],\n",
       "       [1.0000000e+00, 1.6130000e+03, 2.6017690e+06],\n",
       "       [1.0000000e+00, 2.6710000e+03, 7.1342410e+06],\n",
       "       [1.0000000e+00, 3.1400000e+03, 9.8596000e+06],\n",
       "       [1.0000000e+00, 3.4650000e+03, 1.2006225e+07],\n",
       "       [1.0000000e+00, 2.0190000e+03, 4.0763610e+06],\n",
       "       [1.0000000e+00, 2.0650000e+03, 4.2642250e+06],\n",
       "       [1.0000000e+00, 2.3720000e+03, 5.6263840e+06],\n",
       "       [1.0000000e+00, 2.1880000e+03, 4.7873440e+06],\n",
       "       [1.0000000e+00, 2.8300000e+03, 8.0089000e+06],\n",
       "       [1.0000000e+00, 3.9550000e+03, 1.5642025e+07],\n",
       "       [1.0000000e+00, 3.4330000e+03, 1.1785489e+07],\n",
       "       [1.0000000e+00, 2.2340000e+03, 4.9907560e+06],\n",
       "       [1.0000000e+00, 2.4510000e+03, 6.0074010e+06],\n",
       "       [1.0000000e+00, 2.1710000e+03, 4.7132410e+06],\n",
       "       [1.0000000e+00, 1.8250000e+03, 3.3306250e+06],\n",
       "       [1.0000000e+00, 2.4080000e+03, 5.7984640e+06],\n",
       "       [1.0000000e+00, 2.0510000e+03, 4.2066010e+06],\n",
       "       [1.0000000e+00, 1.9850000e+03, 3.9402250e+06],\n",
       "       [1.0000000e+00, 4.7460000e+03, 2.2524516e+07],\n",
       "       [1.0000000e+00, 2.7400000e+03, 7.5076000e+06],\n",
       "       [1.0000000e+00, 2.3950000e+03, 5.7360250e+06],\n",
       "       [1.0000000e+00, 4.2150000e+03, 1.7766225e+07],\n",
       "       [1.0000000e+00, 2.0250000e+03, 4.1006250e+06],\n",
       "       [1.0000000e+00, 4.0600000e+03, 1.6483600e+07],\n",
       "       [1.0000000e+00, 2.5150000e+03, 6.3252250e+06],\n",
       "       [1.0000000e+00, 2.4720000e+03, 6.1107840e+06],\n",
       "       [1.0000000e+00, 3.6090000e+03, 1.3024881e+07],\n",
       "       [1.0000000e+00, 3.2640000e+03, 1.0653696e+07],\n",
       "       [1.0000000e+00, 2.7550000e+03, 7.5900250e+06],\n",
       "       [1.0000000e+00, 3.6720000e+03, 1.3483584e+07],\n",
       "       [1.0000000e+00, 1.8000000e+03, 3.2400000e+06],\n",
       "       [1.0000000e+00, 4.1410000e+03, 1.7147881e+07],\n",
       "       [1.0000000e+00, 2.0030000e+03, 4.0120090e+06],\n",
       "       [1.0000000e+00, 2.4050000e+03, 5.7840250e+06],\n",
       "       [1.0000000e+00, 3.9400000e+03, 1.5523600e+07],\n",
       "       [1.0000000e+00, 2.5720000e+03, 6.6151840e+06],\n",
       "       [1.0000000e+00, 2.5560000e+03, 6.5331360e+06],\n",
       "       [1.0000000e+00, 2.7250000e+03, 7.4256250e+06],\n",
       "       [1.0000000e+00, 3.4490000e+03, 1.1895601e+07],\n",
       "       [1.0000000e+00, 3.6130000e+03, 1.3053769e+07],\n",
       "       [1.0000000e+00, 2.9620000e+03, 8.7734440e+06],\n",
       "       [1.0000000e+00, 3.5350000e+03, 1.2496225e+07],\n",
       "       [1.0000000e+00, 3.6050000e+03, 1.2996025e+07],\n",
       "       [1.0000000e+00, 3.7250000e+03, 1.3875625e+07],\n",
       "       [1.0000000e+00, 2.1550000e+03, 4.6440250e+06],\n",
       "       [1.0000000e+00, 4.6990000e+03, 2.2080601e+07],\n",
       "       [1.0000000e+00, 2.1080000e+03, 4.4436640e+06],\n",
       "       [1.0000000e+00, 3.8920000e+03, 1.5147664e+07],\n",
       "       [1.0000000e+00, 2.5820000e+03, 6.6667240e+06],\n",
       "       [1.0000000e+00, 3.7250000e+03, 1.3875625e+07],\n",
       "       [1.0000000e+00, 2.2950000e+03, 5.2670250e+06],\n",
       "       [1.0000000e+00, 1.8250000e+03, 3.3306250e+06],\n",
       "       [1.0000000e+00, 4.0770000e+03, 1.6621929e+07],\n",
       "       [1.0000000e+00, 2.3700000e+03, 5.6169000e+06],\n",
       "       [1.0000000e+00, 3.7350000e+03, 1.3950225e+07],\n",
       "       [1.0000000e+00, 4.9510000e+03, 2.4512401e+07],\n",
       "       [1.0000000e+00, 2.1250000e+03, 4.5156250e+06],\n",
       "       [1.0000000e+00, 4.7350000e+03, 2.2420225e+07],\n",
       "       [1.0000000e+00, 2.1300000e+03, 4.5369000e+06],\n",
       "       [1.0000000e+00, 3.8400000e+03, 1.4745600e+07],\n",
       "       [1.0000000e+00, 1.9750000e+03, 3.9006250e+06],\n",
       "       [1.0000000e+00, 3.0030000e+03, 9.0180090e+06],\n",
       "       [1.0000000e+00, 2.2280000e+03, 4.9639840e+06],\n",
       "       [1.0000000e+00, 2.8000000e+03, 7.8400000e+06],\n",
       "       [1.0000000e+00, 1.9630000e+03, 3.8533690e+06],\n",
       "       [1.0000000e+00, 4.9520000e+03, 2.4522304e+07],\n",
       "       [1.0000000e+00, 3.9070000e+03, 1.5264649e+07],\n",
       "       [1.0000000e+00, 3.8300000e+03, 1.4668900e+07],\n",
       "       [1.0000000e+00, 2.0650000e+03, 4.2642250e+06],\n",
       "       [1.0000000e+00, 2.3800000e+03, 5.6644000e+06],\n",
       "       [1.0000000e+00, 2.3000000e+03, 5.2900000e+06],\n",
       "       [1.0000000e+00, 1.8000000e+03, 3.2400000e+06],\n",
       "       [1.0000000e+00, 3.0860000e+03, 9.5233960e+06],\n",
       "       [1.0000000e+00, 2.9790000e+03, 8.8744410e+06],\n",
       "       [1.0000000e+00, 2.1600000e+03, 4.6656000e+06],\n",
       "       [1.0000000e+00, 1.7950000e+03, 3.2220250e+06],\n",
       "       [1.0000000e+00, 2.9450000e+03, 8.6730250e+06],\n",
       "       [1.0000000e+00, 2.2450000e+03, 5.0400250e+06],\n",
       "       [1.0000000e+00, 3.1930000e+03, 1.0195249e+07],\n",
       "       [1.0000000e+00, 3.4390000e+03, 1.1826721e+07],\n",
       "       [1.0000000e+00, 4.3850000e+03, 1.9228225e+07],\n",
       "       [1.0000000e+00, 2.8070000e+03, 7.8792490e+06],\n",
       "       [1.0000000e+00, 2.6400000e+03, 6.9696000e+06],\n",
       "       [1.0000000e+00, 2.0500000e+03, 4.2025000e+06],\n",
       "       [1.0000000e+00, 1.8340000e+03, 3.3635560e+06],\n",
       "       [1.0000000e+00, 2.8150000e+03, 7.9242250e+06],\n",
       "       [1.0000000e+00, 2.9000000e+03, 8.4100000e+06],\n",
       "       [1.0000000e+00, 2.7740000e+03, 7.6950760e+06],\n",
       "       [1.0000000e+00, 1.9700000e+03, 3.8809000e+06],\n",
       "       [1.0000000e+00, 4.0960000e+03, 1.6777216e+07],\n",
       "       [1.0000000e+00, 3.3800000e+03, 1.1424400e+07],\n",
       "       [1.0000000e+00, 4.2940000e+03, 1.8438436e+07],\n",
       "       [1.0000000e+00, 4.4250000e+03, 1.9580625e+07],\n",
       "       [1.0000000e+00, 2.7900000e+03, 7.7841000e+06],\n",
       "       [1.0000000e+00, 4.1400000e+03, 1.7139600e+07],\n",
       "       [1.0000000e+00, 4.4980000e+03, 2.0232004e+07],\n",
       "       [1.0000000e+00, 3.6640000e+03, 1.3424896e+07],\n",
       "       [1.0000000e+00, 1.9800000e+03, 3.9204000e+06],\n",
       "       [1.0000000e+00, 2.1100000e+03, 4.4521000e+06],\n",
       "       [1.0000000e+00, 2.8330000e+03, 8.0258890e+06],\n",
       "       [1.0000000e+00, 2.9010000e+03, 8.4158010e+06],\n",
       "       [1.0000000e+00, 2.5600000e+03, 6.5536000e+06]])"
      ]
     },
     "execution_count": 17,
     "metadata": {},
     "output_type": "execute_result"
    }
   ],
   "source": [
    "X_train_poly"
   ]
  },
  {
   "cell_type": "markdown",
   "metadata": {},
   "source": [
    "### train data를 가지고 모델 학습"
   ]
  },
  {
   "cell_type": "code",
   "execution_count": 18,
   "metadata": {},
   "outputs": [
    {
     "data": {
      "text/plain": [
       "LinearRegression(copy_X=True, fit_intercept=True, n_jobs=None, normalize=False)"
      ]
     },
     "execution_count": 18,
     "metadata": {},
     "output_type": "execute_result"
    }
   ],
   "source": [
    "pr = LinearRegression()\n",
    "pr.fit(X_train_poly, y_train)"
   ]
  },
  {
   "cell_type": "code",
   "execution_count": 19,
   "metadata": {
    "scrolled": true
   },
   "outputs": [
    {
     "name": "stdout",
     "output_type": "stream",
     "text": [
      "0.7087009262975685\n"
     ]
    }
   ],
   "source": [
    "X_test_poly = poly.fit_transform(X_test)       #X_test 데이터를 2차항으로 변형\n",
    "r_square = pr.score(X_test_poly,y_test)\n",
    "print(r_square)"
   ]
  },
  {
   "cell_type": "markdown",
   "metadata": {},
   "source": [
    "#### train data의 산점도와 test data로 예측한 회귀선을 그래프로 출력 "
   ]
  },
  {
   "cell_type": "code",
   "execution_count": 20,
   "metadata": {},
   "outputs": [],
   "source": [
    "y_hat_test = pr.predict(X_test_poly)"
   ]
  },
  {
   "cell_type": "code",
   "execution_count": 21,
   "metadata": {},
   "outputs": [
    {
     "data": {
      "image/png": "[encoded data removed]",
      "text/plain": [
       "<Figure size 720x360 with 1 Axes>"
      ]
     },
     "metadata": {
      "needs_background": "light"
     },
     "output_type": "display_data"
    }
   ],
   "source": [
    "fig = plt.figure(figsize=(10, 5))\n",
    "ax = fig.add_subplot(1, 1, 1)\n",
    "ax.plot(X_train, y_train, 'o', label='Train Data')  # 데이터 분포\n",
    "ax.plot(X_test, y_hat_test, 'r+', label='Predicted Value') # 모형이 학습한 회귀선\n",
    "ax.legend(loc='best')\n",
    "plt.xlabel('weight')\n",
    "plt.ylabel('mpg')\n",
    "plt.show()"
   ]
  },
  {
   "cell_type": "markdown",
   "metadata": {},
   "source": [
    "#### 모형에 전체 X 데이터를 입력하여 예측한 값 y_hat을 실제 값 y와 비교 "
   ]
  },
  {
   "cell_type": "code",
   "execution_count": 22,
   "metadata": {},
   "outputs": [],
   "source": [
    "X_ploy = poly.fit_transform(X)\n",
    "y_hat = pr.predict(X_ploy)"
   ]
  },
  {
   "cell_type": "code",
   "execution_count": 23,
   "metadata": {},
   "outputs": [
    {
     "data": {
      "image/png": "[encoded data removed]",
      "text/plain": [
       "<Figure size 720x360 with 1 Axes>"
      ]
     },
     "metadata": {
      "needs_background": "light"
     },
     "output_type": "display_data"
    }
   ],
   "source": [
    "plt.figure(figsize=(10, 5))\n",
    "ax1 = sns.distplot(y, hist=False, label=\"y\")\n",
    "ax2 = sns.distplot(y_hat, hist=False, label=\"y_hat\", ax=ax1)\n",
    "plt.show()"
   ]
  },
  {
   "cell_type": "code",
   "execution_count": null,
   "metadata": {},
   "outputs": [],
   "source": []
  }
 ],
 "metadata": {
  "kernelspec": {
   "display_name": "Python 3",
   "language": "python",
   "name": "python3"
  },
  "language_info": {
   "codemirror_mode": {
    "name": "ipython",
    "version": 3
   },
   "file_extension": ".py",
   "mimetype": "text/x-python",
   "name": "python",
   "nbconvert_exporter": "python",
   "pygments_lexer": "ipython3",
   "version": "3.7.6"
  }
 },
 "nbformat": 4,
 "nbformat_minor": 4
}
